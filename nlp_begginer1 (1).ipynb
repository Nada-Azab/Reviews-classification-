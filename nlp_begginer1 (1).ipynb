{
  "nbformat": 4,
  "nbformat_minor": 0,
  "metadata": {
    "colab": {
      "provenance": [],
      "gpuType": "T4"
    },
    "kernelspec": {
      "name": "python3",
      "display_name": "Python 3"
    },
    "language_info": {
      "name": "python"
    },
    "accelerator": "TPU"
  },
  "cells": [
    {
      "cell_type": "code",
      "execution_count": 1,
      "metadata": {
        "id": "19yAMcRXNDhi"
      },
      "outputs": [],
      "source": [
        "import os\n",
        "os.environ['KAGGLE_USERNAME'] = \"nadaazabmohamed\" # from kaggle.json\n",
        "os.environ['KAGGLE_KEY'] = \"57fdc719800af702633da09f949ef72f\" # from kaggle.json"
      ]
    },
    {
      "cell_type": "code",
      "source": [
        "!kaggle competitions download -c word2vec-nlp-tutorial"
      ],
      "metadata": {
        "colab": {
          "base_uri": "https://localhost:8080/"
        },
        "id": "ZciyGozaN2jY",
        "outputId": "e6221266-6585-40c9-d517-6e9ef7ca08e4"
      },
      "execution_count": 2,
      "outputs": [
        {
          "output_type": "stream",
          "name": "stdout",
          "text": [
            "word2vec-nlp-tutorial.zip: Skipping, found more recently modified local copy (use --force to force download)\n"
          ]
        }
      ]
    },
    {
      "cell_type": "code",
      "source": [
        "!unzip /content/word2vec-nlp-tutorial"
      ],
      "metadata": {
        "colab": {
          "base_uri": "https://localhost:8080/"
        },
        "id": "8IcyfjqkOKnX",
        "outputId": "c9c06943-4d31-49a5-df09-20e6b0bf5c8d"
      },
      "execution_count": 3,
      "outputs": [
        {
          "output_type": "stream",
          "name": "stdout",
          "text": [
            "Archive:  /content/word2vec-nlp-tutorial.zip\n",
            "replace labeledTrainData.tsv.zip? [y]es, [n]o, [A]ll, [N]one, [r]ename: A\n",
            "  inflating: labeledTrainData.tsv.zip  \n",
            "  inflating: sampleSubmission.csv    \n",
            "  inflating: testData.tsv.zip        \n",
            "  inflating: unlabeledTrainData.tsv.zip  \n"
          ]
        }
      ]
    },
    {
      "cell_type": "code",
      "source": [
        "!unzip /content/labeledTrainData.tsv.zip"
      ],
      "metadata": {
        "colab": {
          "base_uri": "https://localhost:8080/"
        },
        "id": "l9bLlVAwO_qo",
        "outputId": "c5329021-d835-4860-c4e5-f4249f9ed581"
      },
      "execution_count": 4,
      "outputs": [
        {
          "output_type": "stream",
          "name": "stdout",
          "text": [
            "Archive:  /content/labeledTrainData.tsv.zip\n",
            "replace labeledTrainData.tsv? [y]es, [n]o, [A]ll, [N]one, [r]ename: A\n",
            "  inflating: labeledTrainData.tsv    \n"
          ]
        }
      ]
    },
    {
      "cell_type": "code",
      "source": [
        "!unzip /content/unlabeledTrainData.tsv.zip"
      ],
      "metadata": {
        "colab": {
          "base_uri": "https://localhost:8080/"
        },
        "id": "wBDjoIZ6PEE_",
        "outputId": "e8445787-d474-4fa7-c89b-baaa59cc67c7"
      },
      "execution_count": 5,
      "outputs": [
        {
          "output_type": "stream",
          "name": "stdout",
          "text": [
            "Archive:  /content/unlabeledTrainData.tsv.zip\n",
            "replace unlabeledTrainData.tsv? [y]es, [n]o, [A]ll, [N]one, [r]ename: A\n",
            "  inflating: unlabeledTrainData.tsv  \n"
          ]
        }
      ]
    },
    {
      "cell_type": "code",
      "source": [
        "!unzip /content/testData.tsv.zip"
      ],
      "metadata": {
        "colab": {
          "base_uri": "https://localhost:8080/"
        },
        "id": "2kE2SpmFPJ5Q",
        "outputId": "df04088e-d23f-4ffc-988e-26c20c60d426"
      },
      "execution_count": 6,
      "outputs": [
        {
          "output_type": "stream",
          "name": "stdout",
          "text": [
            "Archive:  /content/testData.tsv.zip\n",
            "replace testData.tsv? [y]es, [n]o, [A]ll, [N]one, [r]ename: A\n",
            "  inflating: testData.tsv            \n"
          ]
        }
      ]
    },
    {
      "cell_type": "code",
      "source": [
        "from google.colab import drive\n",
        "import csv\n",
        "import os\n",
        "import pandas as pd\n",
        "import numpy as np\n",
        "from skimage.feature import hog\n",
        "from skimage.transform import resize\n",
        "from skimage.io import imread\n",
        "from sklearn import preprocessing\n",
        "import matplotlib.pyplot as plt\n",
        "import shutil\n",
        "from tqdm import tqdm"
      ],
      "metadata": {
        "id": "LcvoG5ZGOSuZ"
      },
      "execution_count": 1,
      "outputs": []
    },
    {
      "cell_type": "code",
      "source": [
        "lData=pd.read_csv(\"labeledTrainData.tsv\",sep='\\t')"
      ],
      "metadata": {
        "id": "PGkIy4CxOWjF"
      },
      "execution_count": 2,
      "outputs": []
    },
    {
      "cell_type": "code",
      "source": [
        "TestData=pd.read_csv(\"testData.tsv\",sep='\\t')"
      ],
      "metadata": {
        "id": "oO-Xq73qGa9n"
      },
      "execution_count": 3,
      "outputs": []
    },
    {
      "cell_type": "code",
      "source": [
        "X_TestData=TestData.review\n",
        "X_TestData"
      ],
      "metadata": {
        "colab": {
          "base_uri": "https://localhost:8080/"
        },
        "id": "ZdSmR1BjGjUy",
        "outputId": "0bdf521f-6ecb-4566-fe39-29721aab1ee5"
      },
      "execution_count": 4,
      "outputs": [
        {
          "output_type": "execute_result",
          "data": {
            "text/plain": [
              "0        Naturally in a film who's main themes are of m...\n",
              "1        This movie is a disaster within a disaster fil...\n",
              "2        All in all, this is a movie for kids. We saw i...\n",
              "3        Afraid of the Dark left me with the impression...\n",
              "4        A very accurate depiction of small time mob li...\n",
              "                               ...                        \n",
              "24995    Sony Pictures Classics, I'm looking at you! So...\n",
              "24996    I always felt that Ms. Merkerson had never got...\n",
              "24997    I was so disappointed in this movie. I am very...\n",
              "24998    From the opening sequence, filled with black a...\n",
              "24999    This is a great horror film for people who don...\n",
              "Name: review, Length: 25000, dtype: object"
            ]
          },
          "metadata": {},
          "execution_count": 4
        }
      ]
    },
    {
      "cell_type": "code",
      "source": [
        "lData.head()"
      ],
      "metadata": {
        "colab": {
          "base_uri": "https://localhost:8080/",
          "height": 206
        },
        "id": "90gEwUG8PfgF",
        "outputId": "a865d768-35dd-4284-de4c-08f73cfc5126"
      },
      "execution_count": 5,
      "outputs": [
        {
          "output_type": "execute_result",
          "data": {
            "text/plain": [
              "       id  sentiment                                             review\n",
              "0  5814_8          1  With all this stuff going down at the moment w...\n",
              "1  2381_9          1  \\The Classic War of the Worlds\\\" by Timothy Hi...\n",
              "2  7759_3          0  The film starts with a manager (Nicholas Bell)...\n",
              "3  3630_4          0  It must be assumed that those who praised this...\n",
              "4  9495_8          1  Superbly trashy and wondrously unpretentious 8..."
            ],
            "text/html": [
              "\n",
              "  <div id=\"df-cbf0adce-94a5-4a52-8f84-47ca585dbd16\">\n",
              "    <div class=\"colab-df-container\">\n",
              "      <div>\n",
              "<style scoped>\n",
              "    .dataframe tbody tr th:only-of-type {\n",
              "        vertical-align: middle;\n",
              "    }\n",
              "\n",
              "    .dataframe tbody tr th {\n",
              "        vertical-align: top;\n",
              "    }\n",
              "\n",
              "    .dataframe thead th {\n",
              "        text-align: right;\n",
              "    }\n",
              "</style>\n",
              "<table border=\"1\" class=\"dataframe\">\n",
              "  <thead>\n",
              "    <tr style=\"text-align: right;\">\n",
              "      <th></th>\n",
              "      <th>id</th>\n",
              "      <th>sentiment</th>\n",
              "      <th>review</th>\n",
              "    </tr>\n",
              "  </thead>\n",
              "  <tbody>\n",
              "    <tr>\n",
              "      <th>0</th>\n",
              "      <td>5814_8</td>\n",
              "      <td>1</td>\n",
              "      <td>With all this stuff going down at the moment w...</td>\n",
              "    </tr>\n",
              "    <tr>\n",
              "      <th>1</th>\n",
              "      <td>2381_9</td>\n",
              "      <td>1</td>\n",
              "      <td>\\The Classic War of the Worlds\\\" by Timothy Hi...</td>\n",
              "    </tr>\n",
              "    <tr>\n",
              "      <th>2</th>\n",
              "      <td>7759_3</td>\n",
              "      <td>0</td>\n",
              "      <td>The film starts with a manager (Nicholas Bell)...</td>\n",
              "    </tr>\n",
              "    <tr>\n",
              "      <th>3</th>\n",
              "      <td>3630_4</td>\n",
              "      <td>0</td>\n",
              "      <td>It must be assumed that those who praised this...</td>\n",
              "    </tr>\n",
              "    <tr>\n",
              "      <th>4</th>\n",
              "      <td>9495_8</td>\n",
              "      <td>1</td>\n",
              "      <td>Superbly trashy and wondrously unpretentious 8...</td>\n",
              "    </tr>\n",
              "  </tbody>\n",
              "</table>\n",
              "</div>\n",
              "      <button class=\"colab-df-convert\" onclick=\"convertToInteractive('df-cbf0adce-94a5-4a52-8f84-47ca585dbd16')\"\n",
              "              title=\"Convert this dataframe to an interactive table.\"\n",
              "              style=\"display:none;\">\n",
              "        \n",
              "  <svg xmlns=\"http://www.w3.org/2000/svg\" height=\"24px\"viewBox=\"0 0 24 24\"\n",
              "       width=\"24px\">\n",
              "    <path d=\"M0 0h24v24H0V0z\" fill=\"none\"/>\n",
              "    <path d=\"M18.56 5.44l.94 2.06.94-2.06 2.06-.94-2.06-.94-.94-2.06-.94 2.06-2.06.94zm-11 1L8.5 8.5l.94-2.06 2.06-.94-2.06-.94L8.5 2.5l-.94 2.06-2.06.94zm10 10l.94 2.06.94-2.06 2.06-.94-2.06-.94-.94-2.06-.94 2.06-2.06.94z\"/><path d=\"M17.41 7.96l-1.37-1.37c-.4-.4-.92-.59-1.43-.59-.52 0-1.04.2-1.43.59L10.3 9.45l-7.72 7.72c-.78.78-.78 2.05 0 2.83L4 21.41c.39.39.9.59 1.41.59.51 0 1.02-.2 1.41-.59l7.78-7.78 2.81-2.81c.8-.78.8-2.07 0-2.86zM5.41 20L4 18.59l7.72-7.72 1.47 1.35L5.41 20z\"/>\n",
              "  </svg>\n",
              "      </button>\n",
              "      \n",
              "  <style>\n",
              "    .colab-df-container {\n",
              "      display:flex;\n",
              "      flex-wrap:wrap;\n",
              "      gap: 12px;\n",
              "    }\n",
              "\n",
              "    .colab-df-convert {\n",
              "      background-color: #E8F0FE;\n",
              "      border: none;\n",
              "      border-radius: 50%;\n",
              "      cursor: pointer;\n",
              "      display: none;\n",
              "      fill: #1967D2;\n",
              "      height: 32px;\n",
              "      padding: 0 0 0 0;\n",
              "      width: 32px;\n",
              "    }\n",
              "\n",
              "    .colab-df-convert:hover {\n",
              "      background-color: #E2EBFA;\n",
              "      box-shadow: 0px 1px 2px rgba(60, 64, 67, 0.3), 0px 1px 3px 1px rgba(60, 64, 67, 0.15);\n",
              "      fill: #174EA6;\n",
              "    }\n",
              "\n",
              "    [theme=dark] .colab-df-convert {\n",
              "      background-color: #3B4455;\n",
              "      fill: #D2E3FC;\n",
              "    }\n",
              "\n",
              "    [theme=dark] .colab-df-convert:hover {\n",
              "      background-color: #434B5C;\n",
              "      box-shadow: 0px 1px 3px 1px rgba(0, 0, 0, 0.15);\n",
              "      filter: drop-shadow(0px 1px 2px rgba(0, 0, 0, 0.3));\n",
              "      fill: #FFFFFF;\n",
              "    }\n",
              "  </style>\n",
              "\n",
              "      <script>\n",
              "        const buttonEl =\n",
              "          document.querySelector('#df-cbf0adce-94a5-4a52-8f84-47ca585dbd16 button.colab-df-convert');\n",
              "        buttonEl.style.display =\n",
              "          google.colab.kernel.accessAllowed ? 'block' : 'none';\n",
              "\n",
              "        async function convertToInteractive(key) {\n",
              "          const element = document.querySelector('#df-cbf0adce-94a5-4a52-8f84-47ca585dbd16');\n",
              "          const dataTable =\n",
              "            await google.colab.kernel.invokeFunction('convertToInteractive',\n",
              "                                                     [key], {});\n",
              "          if (!dataTable) return;\n",
              "\n",
              "          const docLinkHtml = 'Like what you see? Visit the ' +\n",
              "            '<a target=\"_blank\" href=https://colab.research.google.com/notebooks/data_table.ipynb>data table notebook</a>'\n",
              "            + ' to learn more about interactive tables.';\n",
              "          element.innerHTML = '';\n",
              "          dataTable['output_type'] = 'display_data';\n",
              "          await google.colab.output.renderOutput(dataTable, element);\n",
              "          const docLink = document.createElement('div');\n",
              "          docLink.innerHTML = docLinkHtml;\n",
              "          element.appendChild(docLink);\n",
              "        }\n",
              "      </script>\n",
              "    </div>\n",
              "  </div>\n",
              "  "
            ]
          },
          "metadata": {},
          "execution_count": 5
        }
      ]
    },
    {
      "cell_type": "code",
      "source": [
        "lData['review'][0]"
      ],
      "metadata": {
        "colab": {
          "base_uri": "https://localhost:8080/",
          "height": 139
        },
        "id": "YTM-gha-QTuk",
        "outputId": "7cdccbb8-6e7a-41f6-9968-e2ebe66b20a6"
      },
      "execution_count": 6,
      "outputs": [
        {
          "output_type": "execute_result",
          "data": {
            "text/plain": [
              "\"With all this stuff going down at the moment with MJ i've started listening to his music, watching the odd documentary here and there, watched The Wiz and watched Moonwalker again. Maybe i just want to get a certain insight into this guy who i thought was really cool in the eighties just to maybe make up my mind whether he is guilty or innocent. Moonwalker is part biography, part feature film which i remember going to see at the cinema when it was originally released. Some of it has subtle messages about MJ's feeling towards the press and also the obvious message of drugs are bad m'kay.<br /><br />Visually impressive but of course this is all about Michael Jackson so unless you remotely like MJ in anyway then you are going to hate this and find it boring. Some may call MJ an egotist for consenting to the making of this movie BUT MJ and most of his fans would say that he made it for the fans which if true is really nice of him.<br /><br />The actual feature film bit when it finally starts is only on for 20 minutes or so excluding the Smooth Criminal sequence and Joe Pesci is convincing as a psychopathic all powerful drug lord. Why he wants MJ dead so bad is beyond me. Because MJ overheard his plans? Nah, Joe Pesci's character ranted that he wanted people to know it is he who is supplying drugs etc so i dunno, maybe he just hates MJ's music.<br /><br />Lots of cool things in this like MJ turning into a car and a robot and the whole Speed Demon sequence. Also, the director must have had the patience of a saint when it came to filming the kiddy Bad sequence as usually directors hate working with one kid let alone a whole bunch of them performing a complex dance scene.<br /><br />Bottom line, this movie is for people who like MJ on one level or another (which i think is most people). If not, then stay away. It does try and give off a wholesome message and ironically MJ's bestest buddy in this movie is a girl! Michael Jackson is truly one of the most talented people ever to grace this planet but is he guilty? Well, with all the attention i've gave this subject....hmmm well i don't know because people can be different behind closed doors, i know this for a fact. He is either an extremely nice but stupid guy or one of the most sickest liars. I hope he is not the latter.\""
            ],
            "application/vnd.google.colaboratory.intrinsic+json": {
              "type": "string"
            }
          },
          "metadata": {},
          "execution_count": 6
        }
      ]
    },
    {
      "cell_type": "code",
      "source": [
        "lData['review'][2]"
      ],
      "metadata": {
        "colab": {
          "base_uri": "https://localhost:8080/",
          "height": 139
        },
        "id": "r0ZJczfRXeHZ",
        "outputId": "1d9a8431-ec8f-4388-cfd4-466b17a79d4c"
      },
      "execution_count": 7,
      "outputs": [
        {
          "output_type": "execute_result",
          "data": {
            "text/plain": [
              "\"The film starts with a manager (Nicholas Bell) giving welcome investors (Robert Carradine) to Primal Park . A secret project mutating a primal animal using fossilized DNA, like ¨Jurassik Park¨, and some scientists resurrect one of nature's most fearsome predators, the Sabretooth tiger or Smilodon . Scientific ambition turns deadly, however, and when the high voltage fence is opened the creature escape and begins savagely stalking its prey - the human visitors , tourists and scientific.Meanwhile some youngsters enter in the restricted area of the security center and are attacked by a pack of large pre-historical animals which are deadlier and bigger . In addition , a security agent (Stacy Haiduk) and her mate (Brian Wimmer) fight hardly against the carnivorous Smilodons. The Sabretooths, themselves , of course, are the real star stars and they are astounding terrifyingly though not convincing. The giant animals savagely are stalking its prey and the group run afoul and fight against one nature's most fearsome predators. Furthermore a third Sabretooth more dangerous and slow stalks its victims.<br /><br />The movie delivers the goods with lots of blood and gore as beheading, hair-raising chills,full of scares when the Sabretooths appear with mediocre special effects.The story provides exciting and stirring entertainment but it results to be quite boring .The giant animals are majority made by computer generator and seem totally lousy .Middling performances though the players reacting appropriately to becoming food.Actors give vigorously physical performances dodging the beasts ,running,bound and leaps or dangling over walls . And it packs a ridiculous final deadly scene. No for small kids by realistic,gory and violent attack scenes . Other films about Sabretooths or Smilodon are the following : ¨Sabretooth(2002)¨by James R Hickox with Vanessa Angel, David Keith and John Rhys Davies and the much better ¨10.000 BC(2006)¨ by Roland Emmerich with with Steven Strait, Cliff Curtis and Camilla Belle. This motion picture filled with bloody moments is badly directed by George Miller and with no originality because takes too many elements from previous films. Miller is an Australian director usually working for television (Tidal wave, Journey to the center of the earth, and many others) and occasionally for cinema ( The man from Snowy river, Zeus and Roxanne,Robinson Crusoe ). Rating : Below average, bottom of barrel.\""
            ],
            "application/vnd.google.colaboratory.intrinsic+json": {
              "type": "string"
            }
          },
          "metadata": {},
          "execution_count": 7
        }
      ]
    },
    {
      "cell_type": "code",
      "source": [
        "from sklearn.model_selection import train_test_split"
      ],
      "metadata": {
        "id": "_1b-q1KbnWO_"
      },
      "execution_count": 8,
      "outputs": []
    },
    {
      "cell_type": "code",
      "source": [
        "X=lData.review\n",
        "\n",
        "y=lData.sentiment"
      ],
      "metadata": {
        "id": "cCxXnG_3nYQ-"
      },
      "execution_count": 9,
      "outputs": []
    },
    {
      "cell_type": "code",
      "source": [
        "X.head()"
      ],
      "metadata": {
        "colab": {
          "base_uri": "https://localhost:8080/"
        },
        "id": "P0SeSIdOnqbQ",
        "outputId": "833ce53a-7244-4186-fea3-10c5a803e461"
      },
      "execution_count": 10,
      "outputs": [
        {
          "output_type": "execute_result",
          "data": {
            "text/plain": [
              "0    With all this stuff going down at the moment w...\n",
              "1    \\The Classic War of the Worlds\\\" by Timothy Hi...\n",
              "2    The film starts with a manager (Nicholas Bell)...\n",
              "3    It must be assumed that those who praised this...\n",
              "4    Superbly trashy and wondrously unpretentious 8...\n",
              "Name: review, dtype: object"
            ]
          },
          "metadata": {},
          "execution_count": 10
        }
      ]
    },
    {
      "cell_type": "markdown",
      "source": [
        "# تجربة سرعةالوقت بين المكتبة التى تحذف غير المفيد  والكود اليدومى\n",
        "## أولا : المكتبة"
      ],
      "metadata": {
        "id": "q3vXDebgbWvP"
      }
    },
    {
      "cell_type": "code",
      "source": [
        "import time\n",
        "\n",
        "start = time.time()\n",
        "\n",
        "import re"
      ],
      "metadata": {
        "id": "naCbDgOqWoY1"
      },
      "execution_count": 11,
      "outputs": []
    },
    {
      "cell_type": "code",
      "source": [
        "cleaded =re.sub(r'[^\\w\\s]','',lData['review'][0])\n",
        "\n",
        "end = time.time()\n",
        "print(end - start)"
      ],
      "metadata": {
        "colab": {
          "base_uri": "https://localhost:8080/"
        },
        "id": "N2sW312FVXpM",
        "outputId": "2910025e-ad1c-428f-9b53-42f0d696eed4"
      },
      "execution_count": 12,
      "outputs": [
        {
          "output_type": "stream",
          "name": "stdout",
          "text": [
            "0.01014566421508789\n"
          ]
        }
      ]
    },
    {
      "cell_type": "code",
      "source": [
        "cleaded"
      ],
      "metadata": {
        "colab": {
          "base_uri": "https://localhost:8080/",
          "height": 139
        },
        "id": "FUqzKRVrXuZQ",
        "outputId": "24de4e43-b676-4728-ad9a-a14b701cd0cd"
      },
      "execution_count": 13,
      "outputs": [
        {
          "output_type": "execute_result",
          "data": {
            "text/plain": [
              "'With all this stuff going down at the moment with MJ ive started listening to his music watching the odd documentary here and there watched The Wiz and watched Moonwalker again Maybe i just want to get a certain insight into this guy who i thought was really cool in the eighties just to maybe make up my mind whether he is guilty or innocent Moonwalker is part biography part feature film which i remember going to see at the cinema when it was originally released Some of it has subtle messages about MJs feeling towards the press and also the obvious message of drugs are bad mkaybr br Visually impressive but of course this is all about Michael Jackson so unless you remotely like MJ in anyway then you are going to hate this and find it boring Some may call MJ an egotist for consenting to the making of this movie BUT MJ and most of his fans would say that he made it for the fans which if true is really nice of himbr br The actual feature film bit when it finally starts is only on for 20 minutes or so excluding the Smooth Criminal sequence and Joe Pesci is convincing as a psychopathic all powerful drug lord Why he wants MJ dead so bad is beyond me Because MJ overheard his plans Nah Joe Pescis character ranted that he wanted people to know it is he who is supplying drugs etc so i dunno maybe he just hates MJs musicbr br Lots of cool things in this like MJ turning into a car and a robot and the whole Speed Demon sequence Also the director must have had the patience of a saint when it came to filming the kiddy Bad sequence as usually directors hate working with one kid let alone a whole bunch of them performing a complex dance scenebr br Bottom line this movie is for people who like MJ on one level or another which i think is most people If not then stay away It does try and give off a wholesome message and ironically MJs bestest buddy in this movie is a girl Michael Jackson is truly one of the most talented people ever to grace this planet but is he guilty Well with all the attention ive gave this subjecthmmm well i dont know because people can be different behind closed doors i know this for a fact He is either an extremely nice but stupid guy or one of the most sickest liars I hope he is not the latter'"
            ],
            "application/vnd.google.colaboratory.intrinsic+json": {
              "type": "string"
            }
          },
          "metadata": {},
          "execution_count": 13
        }
      ]
    },
    {
      "cell_type": "markdown",
      "source": [
        "##ثانيا :الكود اليدوى"
      ],
      "metadata": {
        "id": "FRlY1FWybwn6"
      }
    },
    {
      "cell_type": "code",
      "source": [
        "import time\n",
        "\n",
        "start = time.time()\n",
        "\n",
        "ascii_codes = [ord(char) for char in lData['review'][0]]\n",
        "print(ascii_codes)"
      ],
      "metadata": {
        "colab": {
          "base_uri": "https://localhost:8080/"
        },
        "id": "57_EBGysX0nq",
        "outputId": "f9148f75-96de-4025-c037-7e41a166983a"
      },
      "execution_count": 14,
      "outputs": [
        {
          "output_type": "stream",
          "name": "stdout",
          "text": [
            "[87, 105, 116, 104, 32, 97, 108, 108, 32, 116, 104, 105, 115, 32, 115, 116, 117, 102, 102, 32, 103, 111, 105, 110, 103, 32, 100, 111, 119, 110, 32, 97, 116, 32, 116, 104, 101, 32, 109, 111, 109, 101, 110, 116, 32, 119, 105, 116, 104, 32, 77, 74, 32, 105, 39, 118, 101, 32, 115, 116, 97, 114, 116, 101, 100, 32, 108, 105, 115, 116, 101, 110, 105, 110, 103, 32, 116, 111, 32, 104, 105, 115, 32, 109, 117, 115, 105, 99, 44, 32, 119, 97, 116, 99, 104, 105, 110, 103, 32, 116, 104, 101, 32, 111, 100, 100, 32, 100, 111, 99, 117, 109, 101, 110, 116, 97, 114, 121, 32, 104, 101, 114, 101, 32, 97, 110, 100, 32, 116, 104, 101, 114, 101, 44, 32, 119, 97, 116, 99, 104, 101, 100, 32, 84, 104, 101, 32, 87, 105, 122, 32, 97, 110, 100, 32, 119, 97, 116, 99, 104, 101, 100, 32, 77, 111, 111, 110, 119, 97, 108, 107, 101, 114, 32, 97, 103, 97, 105, 110, 46, 32, 77, 97, 121, 98, 101, 32, 105, 32, 106, 117, 115, 116, 32, 119, 97, 110, 116, 32, 116, 111, 32, 103, 101, 116, 32, 97, 32, 99, 101, 114, 116, 97, 105, 110, 32, 105, 110, 115, 105, 103, 104, 116, 32, 105, 110, 116, 111, 32, 116, 104, 105, 115, 32, 103, 117, 121, 32, 119, 104, 111, 32, 105, 32, 116, 104, 111, 117, 103, 104, 116, 32, 119, 97, 115, 32, 114, 101, 97, 108, 108, 121, 32, 99, 111, 111, 108, 32, 105, 110, 32, 116, 104, 101, 32, 101, 105, 103, 104, 116, 105, 101, 115, 32, 106, 117, 115, 116, 32, 116, 111, 32, 109, 97, 121, 98, 101, 32, 109, 97, 107, 101, 32, 117, 112, 32, 109, 121, 32, 109, 105, 110, 100, 32, 119, 104, 101, 116, 104, 101, 114, 32, 104, 101, 32, 105, 115, 32, 103, 117, 105, 108, 116, 121, 32, 111, 114, 32, 105, 110, 110, 111, 99, 101, 110, 116, 46, 32, 77, 111, 111, 110, 119, 97, 108, 107, 101, 114, 32, 105, 115, 32, 112, 97, 114, 116, 32, 98, 105, 111, 103, 114, 97, 112, 104, 121, 44, 32, 112, 97, 114, 116, 32, 102, 101, 97, 116, 117, 114, 101, 32, 102, 105, 108, 109, 32, 119, 104, 105, 99, 104, 32, 105, 32, 114, 101, 109, 101, 109, 98, 101, 114, 32, 103, 111, 105, 110, 103, 32, 116, 111, 32, 115, 101, 101, 32, 97, 116, 32, 116, 104, 101, 32, 99, 105, 110, 101, 109, 97, 32, 119, 104, 101, 110, 32, 105, 116, 32, 119, 97, 115, 32, 111, 114, 105, 103, 105, 110, 97, 108, 108, 121, 32, 114, 101, 108, 101, 97, 115, 101, 100, 46, 32, 83, 111, 109, 101, 32, 111, 102, 32, 105, 116, 32, 104, 97, 115, 32, 115, 117, 98, 116, 108, 101, 32, 109, 101, 115, 115, 97, 103, 101, 115, 32, 97, 98, 111, 117, 116, 32, 77, 74, 39, 115, 32, 102, 101, 101, 108, 105, 110, 103, 32, 116, 111, 119, 97, 114, 100, 115, 32, 116, 104, 101, 32, 112, 114, 101, 115, 115, 32, 97, 110, 100, 32, 97, 108, 115, 111, 32, 116, 104, 101, 32, 111, 98, 118, 105, 111, 117, 115, 32, 109, 101, 115, 115, 97, 103, 101, 32, 111, 102, 32, 100, 114, 117, 103, 115, 32, 97, 114, 101, 32, 98, 97, 100, 32, 109, 39, 107, 97, 121, 46, 60, 98, 114, 32, 47, 62, 60, 98, 114, 32, 47, 62, 86, 105, 115, 117, 97, 108, 108, 121, 32, 105, 109, 112, 114, 101, 115, 115, 105, 118, 101, 32, 98, 117, 116, 32, 111, 102, 32, 99, 111, 117, 114, 115, 101, 32, 116, 104, 105, 115, 32, 105, 115, 32, 97, 108, 108, 32, 97, 98, 111, 117, 116, 32, 77, 105, 99, 104, 97, 101, 108, 32, 74, 97, 99, 107, 115, 111, 110, 32, 115, 111, 32, 117, 110, 108, 101, 115, 115, 32, 121, 111, 117, 32, 114, 101, 109, 111, 116, 101, 108, 121, 32, 108, 105, 107, 101, 32, 77, 74, 32, 105, 110, 32, 97, 110, 121, 119, 97, 121, 32, 116, 104, 101, 110, 32, 121, 111, 117, 32, 97, 114, 101, 32, 103, 111, 105, 110, 103, 32, 116, 111, 32, 104, 97, 116, 101, 32, 116, 104, 105, 115, 32, 97, 110, 100, 32, 102, 105, 110, 100, 32, 105, 116, 32, 98, 111, 114, 105, 110, 103, 46, 32, 83, 111, 109, 101, 32, 109, 97, 121, 32, 99, 97, 108, 108, 32, 77, 74, 32, 97, 110, 32, 101, 103, 111, 116, 105, 115, 116, 32, 102, 111, 114, 32, 99, 111, 110, 115, 101, 110, 116, 105, 110, 103, 32, 116, 111, 32, 116, 104, 101, 32, 109, 97, 107, 105, 110, 103, 32, 111, 102, 32, 116, 104, 105, 115, 32, 109, 111, 118, 105, 101, 32, 66, 85, 84, 32, 77, 74, 32, 97, 110, 100, 32, 109, 111, 115, 116, 32, 111, 102, 32, 104, 105, 115, 32, 102, 97, 110, 115, 32, 119, 111, 117, 108, 100, 32, 115, 97, 121, 32, 116, 104, 97, 116, 32, 104, 101, 32, 109, 97, 100, 101, 32, 105, 116, 32, 102, 111, 114, 32, 116, 104, 101, 32, 102, 97, 110, 115, 32, 119, 104, 105, 99, 104, 32, 105, 102, 32, 116, 114, 117, 101, 32, 105, 115, 32, 114, 101, 97, 108, 108, 121, 32, 110, 105, 99, 101, 32, 111, 102, 32, 104, 105, 109, 46, 60, 98, 114, 32, 47, 62, 60, 98, 114, 32, 47, 62, 84, 104, 101, 32, 97, 99, 116, 117, 97, 108, 32, 102, 101, 97, 116, 117, 114, 101, 32, 102, 105, 108, 109, 32, 98, 105, 116, 32, 119, 104, 101, 110, 32, 105, 116, 32, 102, 105, 110, 97, 108, 108, 121, 32, 115, 116, 97, 114, 116, 115, 32, 105, 115, 32, 111, 110, 108, 121, 32, 111, 110, 32, 102, 111, 114, 32, 50, 48, 32, 109, 105, 110, 117, 116, 101, 115, 32, 111, 114, 32, 115, 111, 32, 101, 120, 99, 108, 117, 100, 105, 110, 103, 32, 116, 104, 101, 32, 83, 109, 111, 111, 116, 104, 32, 67, 114, 105, 109, 105, 110, 97, 108, 32, 115, 101, 113, 117, 101, 110, 99, 101, 32, 97, 110, 100, 32, 74, 111, 101, 32, 80, 101, 115, 99, 105, 32, 105, 115, 32, 99, 111, 110, 118, 105, 110, 99, 105, 110, 103, 32, 97, 115, 32, 97, 32, 112, 115, 121, 99, 104, 111, 112, 97, 116, 104, 105, 99, 32, 97, 108, 108, 32, 112, 111, 119, 101, 114, 102, 117, 108, 32, 100, 114, 117, 103, 32, 108, 111, 114, 100, 46, 32, 87, 104, 121, 32, 104, 101, 32, 119, 97, 110, 116, 115, 32, 77, 74, 32, 100, 101, 97, 100, 32, 115, 111, 32, 98, 97, 100, 32, 105, 115, 32, 98, 101, 121, 111, 110, 100, 32, 109, 101, 46, 32, 66, 101, 99, 97, 117, 115, 101, 32, 77, 74, 32, 111, 118, 101, 114, 104, 101, 97, 114, 100, 32, 104, 105, 115, 32, 112, 108, 97, 110, 115, 63, 32, 78, 97, 104, 44, 32, 74, 111, 101, 32, 80, 101, 115, 99, 105, 39, 115, 32, 99, 104, 97, 114, 97, 99, 116, 101, 114, 32, 114, 97, 110, 116, 101, 100, 32, 116, 104, 97, 116, 32, 104, 101, 32, 119, 97, 110, 116, 101, 100, 32, 112, 101, 111, 112, 108, 101, 32, 116, 111, 32, 107, 110, 111, 119, 32, 105, 116, 32, 105, 115, 32, 104, 101, 32, 119, 104, 111, 32, 105, 115, 32, 115, 117, 112, 112, 108, 121, 105, 110, 103, 32, 100, 114, 117, 103, 115, 32, 101, 116, 99, 32, 115, 111, 32, 105, 32, 100, 117, 110, 110, 111, 44, 32, 109, 97, 121, 98, 101, 32, 104, 101, 32, 106, 117, 115, 116, 32, 104, 97, 116, 101, 115, 32, 77, 74, 39, 115, 32, 109, 117, 115, 105, 99, 46, 60, 98, 114, 32, 47, 62, 60, 98, 114, 32, 47, 62, 76, 111, 116, 115, 32, 111, 102, 32, 99, 111, 111, 108, 32, 116, 104, 105, 110, 103, 115, 32, 105, 110, 32, 116, 104, 105, 115, 32, 108, 105, 107, 101, 32, 77, 74, 32, 116, 117, 114, 110, 105, 110, 103, 32, 105, 110, 116, 111, 32, 97, 32, 99, 97, 114, 32, 97, 110, 100, 32, 97, 32, 114, 111, 98, 111, 116, 32, 97, 110, 100, 32, 116, 104, 101, 32, 119, 104, 111, 108, 101, 32, 83, 112, 101, 101, 100, 32, 68, 101, 109, 111, 110, 32, 115, 101, 113, 117, 101, 110, 99, 101, 46, 32, 65, 108, 115, 111, 44, 32, 116, 104, 101, 32, 100, 105, 114, 101, 99, 116, 111, 114, 32, 109, 117, 115, 116, 32, 104, 97, 118, 101, 32, 104, 97, 100, 32, 116, 104, 101, 32, 112, 97, 116, 105, 101, 110, 99, 101, 32, 111, 102, 32, 97, 32, 115, 97, 105, 110, 116, 32, 119, 104, 101, 110, 32, 105, 116, 32, 99, 97, 109, 101, 32, 116, 111, 32, 102, 105, 108, 109, 105, 110, 103, 32, 116, 104, 101, 32, 107, 105, 100, 100, 121, 32, 66, 97, 100, 32, 115, 101, 113, 117, 101, 110, 99, 101, 32, 97, 115, 32, 117, 115, 117, 97, 108, 108, 121, 32, 100, 105, 114, 101, 99, 116, 111, 114, 115, 32, 104, 97, 116, 101, 32, 119, 111, 114, 107, 105, 110, 103, 32, 119, 105, 116, 104, 32, 111, 110, 101, 32, 107, 105, 100, 32, 108, 101, 116, 32, 97, 108, 111, 110, 101, 32, 97, 32, 119, 104, 111, 108, 101, 32, 98, 117, 110, 99, 104, 32, 111, 102, 32, 116, 104, 101, 109, 32, 112, 101, 114, 102, 111, 114, 109, 105, 110, 103, 32, 97, 32, 99, 111, 109, 112, 108, 101, 120, 32, 100, 97, 110, 99, 101, 32, 115, 99, 101, 110, 101, 46, 60, 98, 114, 32, 47, 62, 60, 98, 114, 32, 47, 62, 66, 111, 116, 116, 111, 109, 32, 108, 105, 110, 101, 44, 32, 116, 104, 105, 115, 32, 109, 111, 118, 105, 101, 32, 105, 115, 32, 102, 111, 114, 32, 112, 101, 111, 112, 108, 101, 32, 119, 104, 111, 32, 108, 105, 107, 101, 32, 77, 74, 32, 111, 110, 32, 111, 110, 101, 32, 108, 101, 118, 101, 108, 32, 111, 114, 32, 97, 110, 111, 116, 104, 101, 114, 32, 40, 119, 104, 105, 99, 104, 32, 105, 32, 116, 104, 105, 110, 107, 32, 105, 115, 32, 109, 111, 115, 116, 32, 112, 101, 111, 112, 108, 101, 41, 46, 32, 73, 102, 32, 110, 111, 116, 44, 32, 116, 104, 101, 110, 32, 115, 116, 97, 121, 32, 97, 119, 97, 121, 46, 32, 73, 116, 32, 100, 111, 101, 115, 32, 116, 114, 121, 32, 97, 110, 100, 32, 103, 105, 118, 101, 32, 111, 102, 102, 32, 97, 32, 119, 104, 111, 108, 101, 115, 111, 109, 101, 32, 109, 101, 115, 115, 97, 103, 101, 32, 97, 110, 100, 32, 105, 114, 111, 110, 105, 99, 97, 108, 108, 121, 32, 77, 74, 39, 115, 32, 98, 101, 115, 116, 101, 115, 116, 32, 98, 117, 100, 100, 121, 32, 105, 110, 32, 116, 104, 105, 115, 32, 109, 111, 118, 105, 101, 32, 105, 115, 32, 97, 32, 103, 105, 114, 108, 33, 32, 77, 105, 99, 104, 97, 101, 108, 32, 74, 97, 99, 107, 115, 111, 110, 32, 105, 115, 32, 116, 114, 117, 108, 121, 32, 111, 110, 101, 32, 111, 102, 32, 116, 104, 101, 32, 109, 111, 115, 116, 32, 116, 97, 108, 101, 110, 116, 101, 100, 32, 112, 101, 111, 112, 108, 101, 32, 101, 118, 101, 114, 32, 116, 111, 32, 103, 114, 97, 99, 101, 32, 116, 104, 105, 115, 32, 112, 108, 97, 110, 101, 116, 32, 98, 117, 116, 32, 105, 115, 32, 104, 101, 32, 103, 117, 105, 108, 116, 121, 63, 32, 87, 101, 108, 108, 44, 32, 119, 105, 116, 104, 32, 97, 108, 108, 32, 116, 104, 101, 32, 97, 116, 116, 101, 110, 116, 105, 111, 110, 32, 105, 39, 118, 101, 32, 103, 97, 118, 101, 32, 116, 104, 105, 115, 32, 115, 117, 98, 106, 101, 99, 116, 46, 46, 46, 46, 104, 109, 109, 109, 32, 119, 101, 108, 108, 32, 105, 32, 100, 111, 110, 39, 116, 32, 107, 110, 111, 119, 32, 98, 101, 99, 97, 117, 115, 101, 32, 112, 101, 111, 112, 108, 101, 32, 99, 97, 110, 32, 98, 101, 32, 100, 105, 102, 102, 101, 114, 101, 110, 116, 32, 98, 101, 104, 105, 110, 100, 32, 99, 108, 111, 115, 101, 100, 32, 100, 111, 111, 114, 115, 44, 32, 105, 32, 107, 110, 111, 119, 32, 116, 104, 105, 115, 32, 102, 111, 114, 32, 97, 32, 102, 97, 99, 116, 46, 32, 72, 101, 32, 105, 115, 32, 101, 105, 116, 104, 101, 114, 32, 97, 110, 32, 101, 120, 116, 114, 101, 109, 101, 108, 121, 32, 110, 105, 99, 101, 32, 98, 117, 116, 32, 115, 116, 117, 112, 105, 100, 32, 103, 117, 121, 32, 111, 114, 32, 111, 110, 101, 32, 111, 102, 32, 116, 104, 101, 32, 109, 111, 115, 116, 32, 115, 105, 99, 107, 101, 115, 116, 32, 108, 105, 97, 114, 115, 46, 32, 73, 32, 104, 111, 112, 101, 32, 104, 101, 32, 105, 115, 32, 110, 111, 116, 32, 116, 104, 101, 32, 108, 97, 116, 116, 101, 114, 46]\n"
          ]
        }
      ]
    },
    {
      "cell_type": "code",
      "source": [
        "newascii_codes=[]\n",
        "for num,i in enumerate(ascii_codes) :\n",
        "  if ((i<91) and (i>66)) or (  (i<123) and (i>96) ) or (i==32):\n",
        "      newascii_codes.append(i)"
      ],
      "metadata": {
        "id": "D5KGqeoCQiYE"
      },
      "execution_count": 15,
      "outputs": []
    },
    {
      "cell_type": "code",
      "source": [
        "text = ''.join(chr(code) for code in newascii_codes)\n",
        "print(text)\n",
        "\n",
        "\n",
        "end = time.time()\n",
        "print(end - start)"
      ],
      "metadata": {
        "colab": {
          "base_uri": "https://localhost:8080/"
        },
        "id": "Gu_8EnDGYWGL",
        "outputId": "d49e721a-431b-490d-d6e2-93c736966d92"
      },
      "execution_count": 16,
      "outputs": [
        {
          "output_type": "stream",
          "name": "stdout",
          "text": [
            "With all this stuff going down at the moment with MJ ive started listening to his music watching the odd documentary here and there watched The Wiz and watched Moonwalker again Maybe i just want to get a certain insight into this guy who i thought was really cool in the eighties just to maybe make up my mind whether he is guilty or innocent Moonwalker is part biography part feature film which i remember going to see at the cinema when it was originally released Some of it has subtle messages about MJs feeling towards the press and also the obvious message of drugs are bad mkaybr br Visually impressive but of course this is all about Michael Jackson so unless you remotely like MJ in anyway then you are going to hate this and find it boring Some may call MJ an egotist for consenting to the making of this movie UT MJ and most of his fans would say that he made it for the fans which if true is really nice of himbr br The actual feature film bit when it finally starts is only on for  minutes or so excluding the Smooth Criminal sequence and Joe Pesci is convincing as a psychopathic all powerful drug lord Why he wants MJ dead so bad is beyond me ecause MJ overheard his plans Nah Joe Pescis character ranted that he wanted people to know it is he who is supplying drugs etc so i dunno maybe he just hates MJs musicbr br Lots of cool things in this like MJ turning into a car and a robot and the whole Speed Demon sequence lso the director must have had the patience of a saint when it came to filming the kiddy ad sequence as usually directors hate working with one kid let alone a whole bunch of them performing a complex dance scenebr br ottom line this movie is for people who like MJ on one level or another which i think is most people If not then stay away It does try and give off a wholesome message and ironically MJs bestest buddy in this movie is a girl Michael Jackson is truly one of the most talented people ever to grace this planet but is he guilty Well with all the attention ive gave this subjecthmmm well i dont know because people can be different behind closed doors i know this for a fact He is either an extremely nice but stupid guy or one of the most sickest liars I hope he is not the latter\n",
            "0.037644147872924805\n"
          ]
        }
      ]
    },
    {
      "cell_type": "markdown",
      "source": [
        "# المستفاد ان الوقت من المكتبة اقل من الوقت اليدوى و بالتالى توفر المكتبة وقت و جهد التفكير فى طريقة حل\n",
        "---------------\n",
        "--------------\n",
        "-----------"
      ],
      "metadata": {
        "id": "xy9JzbagcQis"
      }
    },
    {
      "cell_type": "code",
      "source": [
        "import re\n",
        "def clean_text (text):\n",
        "    cleaded =re.sub(r'[^\\w\\s]','',text)\n",
        "    cleaned_text = cleaded.lower()\n",
        "\n",
        "    return cleaned_text"
      ],
      "metadata": {
        "id": "J9YK73ZXYyuw"
      },
      "execution_count": 17,
      "outputs": []
    },
    {
      "cell_type": "code",
      "source": [
        "# call cleaned function here:\n",
        "print(clean_text(X[0]))"
      ],
      "metadata": {
        "colab": {
          "base_uri": "https://localhost:8080/"
        },
        "id": "l1Xa1TLfdFuM",
        "outputId": "1c1ea390-e4cc-4e3e-9409-5fcd388e78a1"
      },
      "execution_count": 18,
      "outputs": [
        {
          "output_type": "stream",
          "name": "stdout",
          "text": [
            "with all this stuff going down at the moment with mj ive started listening to his music watching the odd documentary here and there watched the wiz and watched moonwalker again maybe i just want to get a certain insight into this guy who i thought was really cool in the eighties just to maybe make up my mind whether he is guilty or innocent moonwalker is part biography part feature film which i remember going to see at the cinema when it was originally released some of it has subtle messages about mjs feeling towards the press and also the obvious message of drugs are bad mkaybr br visually impressive but of course this is all about michael jackson so unless you remotely like mj in anyway then you are going to hate this and find it boring some may call mj an egotist for consenting to the making of this movie but mj and most of his fans would say that he made it for the fans which if true is really nice of himbr br the actual feature film bit when it finally starts is only on for 20 minutes or so excluding the smooth criminal sequence and joe pesci is convincing as a psychopathic all powerful drug lord why he wants mj dead so bad is beyond me because mj overheard his plans nah joe pescis character ranted that he wanted people to know it is he who is supplying drugs etc so i dunno maybe he just hates mjs musicbr br lots of cool things in this like mj turning into a car and a robot and the whole speed demon sequence also the director must have had the patience of a saint when it came to filming the kiddy bad sequence as usually directors hate working with one kid let alone a whole bunch of them performing a complex dance scenebr br bottom line this movie is for people who like mj on one level or another which i think is most people if not then stay away it does try and give off a wholesome message and ironically mjs bestest buddy in this movie is a girl michael jackson is truly one of the most talented people ever to grace this planet but is he guilty well with all the attention ive gave this subjecthmmm well i dont know because people can be different behind closed doors i know this for a fact he is either an extremely nice but stupid guy or one of the most sickest liars i hope he is not the latter\n"
          ]
        }
      ]
    },
    {
      "cell_type": "code",
      "source": [
        "import nltk\n",
        "nltk.download('punkt')"
      ],
      "metadata": {
        "colab": {
          "base_uri": "https://localhost:8080/"
        },
        "id": "YnGmaukYfBFP",
        "outputId": "c9b6a6d3-ffdc-4cf3-f3ae-15ad0145354d"
      },
      "execution_count": 19,
      "outputs": [
        {
          "output_type": "stream",
          "name": "stderr",
          "text": [
            "[nltk_data] Downloading package punkt to /root/nltk_data...\n",
            "[nltk_data]   Package punkt is already up-to-date!\n"
          ]
        },
        {
          "output_type": "execute_result",
          "data": {
            "text/plain": [
              "True"
            ]
          },
          "metadata": {},
          "execution_count": 19
        }
      ]
    },
    {
      "cell_type": "code",
      "source": [
        "from nltk.tokenize import word_tokenize\n",
        "\n",
        "def tokenize_text(text):\n",
        "    # Tokenize the text into individual words\n",
        "    tokens = word_tokenize(text)\n",
        "\n",
        "    return tokens\n"
      ],
      "metadata": {
        "id": "A39oFjK-dF8Y"
      },
      "execution_count": 20,
      "outputs": []
    },
    {
      "cell_type": "code",
      "source": [
        "# call function here:\n",
        "tokenize_text(clean_text(X[0]))"
      ],
      "metadata": {
        "colab": {
          "base_uri": "https://localhost:8080/"
        },
        "id": "9DK9y-WhdxGD",
        "outputId": "7d97ce35-f700-46f3-eb3d-d0b5eb49c726"
      },
      "execution_count": 21,
      "outputs": [
        {
          "output_type": "execute_result",
          "data": {
            "text/plain": [
              "['with',\n",
              " 'all',\n",
              " 'this',\n",
              " 'stuff',\n",
              " 'going',\n",
              " 'down',\n",
              " 'at',\n",
              " 'the',\n",
              " 'moment',\n",
              " 'with',\n",
              " 'mj',\n",
              " 'ive',\n",
              " 'started',\n",
              " 'listening',\n",
              " 'to',\n",
              " 'his',\n",
              " 'music',\n",
              " 'watching',\n",
              " 'the',\n",
              " 'odd',\n",
              " 'documentary',\n",
              " 'here',\n",
              " 'and',\n",
              " 'there',\n",
              " 'watched',\n",
              " 'the',\n",
              " 'wiz',\n",
              " 'and',\n",
              " 'watched',\n",
              " 'moonwalker',\n",
              " 'again',\n",
              " 'maybe',\n",
              " 'i',\n",
              " 'just',\n",
              " 'want',\n",
              " 'to',\n",
              " 'get',\n",
              " 'a',\n",
              " 'certain',\n",
              " 'insight',\n",
              " 'into',\n",
              " 'this',\n",
              " 'guy',\n",
              " 'who',\n",
              " 'i',\n",
              " 'thought',\n",
              " 'was',\n",
              " 'really',\n",
              " 'cool',\n",
              " 'in',\n",
              " 'the',\n",
              " 'eighties',\n",
              " 'just',\n",
              " 'to',\n",
              " 'maybe',\n",
              " 'make',\n",
              " 'up',\n",
              " 'my',\n",
              " 'mind',\n",
              " 'whether',\n",
              " 'he',\n",
              " 'is',\n",
              " 'guilty',\n",
              " 'or',\n",
              " 'innocent',\n",
              " 'moonwalker',\n",
              " 'is',\n",
              " 'part',\n",
              " 'biography',\n",
              " 'part',\n",
              " 'feature',\n",
              " 'film',\n",
              " 'which',\n",
              " 'i',\n",
              " 'remember',\n",
              " 'going',\n",
              " 'to',\n",
              " 'see',\n",
              " 'at',\n",
              " 'the',\n",
              " 'cinema',\n",
              " 'when',\n",
              " 'it',\n",
              " 'was',\n",
              " 'originally',\n",
              " 'released',\n",
              " 'some',\n",
              " 'of',\n",
              " 'it',\n",
              " 'has',\n",
              " 'subtle',\n",
              " 'messages',\n",
              " 'about',\n",
              " 'mjs',\n",
              " 'feeling',\n",
              " 'towards',\n",
              " 'the',\n",
              " 'press',\n",
              " 'and',\n",
              " 'also',\n",
              " 'the',\n",
              " 'obvious',\n",
              " 'message',\n",
              " 'of',\n",
              " 'drugs',\n",
              " 'are',\n",
              " 'bad',\n",
              " 'mkaybr',\n",
              " 'br',\n",
              " 'visually',\n",
              " 'impressive',\n",
              " 'but',\n",
              " 'of',\n",
              " 'course',\n",
              " 'this',\n",
              " 'is',\n",
              " 'all',\n",
              " 'about',\n",
              " 'michael',\n",
              " 'jackson',\n",
              " 'so',\n",
              " 'unless',\n",
              " 'you',\n",
              " 'remotely',\n",
              " 'like',\n",
              " 'mj',\n",
              " 'in',\n",
              " 'anyway',\n",
              " 'then',\n",
              " 'you',\n",
              " 'are',\n",
              " 'going',\n",
              " 'to',\n",
              " 'hate',\n",
              " 'this',\n",
              " 'and',\n",
              " 'find',\n",
              " 'it',\n",
              " 'boring',\n",
              " 'some',\n",
              " 'may',\n",
              " 'call',\n",
              " 'mj',\n",
              " 'an',\n",
              " 'egotist',\n",
              " 'for',\n",
              " 'consenting',\n",
              " 'to',\n",
              " 'the',\n",
              " 'making',\n",
              " 'of',\n",
              " 'this',\n",
              " 'movie',\n",
              " 'but',\n",
              " 'mj',\n",
              " 'and',\n",
              " 'most',\n",
              " 'of',\n",
              " 'his',\n",
              " 'fans',\n",
              " 'would',\n",
              " 'say',\n",
              " 'that',\n",
              " 'he',\n",
              " 'made',\n",
              " 'it',\n",
              " 'for',\n",
              " 'the',\n",
              " 'fans',\n",
              " 'which',\n",
              " 'if',\n",
              " 'true',\n",
              " 'is',\n",
              " 'really',\n",
              " 'nice',\n",
              " 'of',\n",
              " 'himbr',\n",
              " 'br',\n",
              " 'the',\n",
              " 'actual',\n",
              " 'feature',\n",
              " 'film',\n",
              " 'bit',\n",
              " 'when',\n",
              " 'it',\n",
              " 'finally',\n",
              " 'starts',\n",
              " 'is',\n",
              " 'only',\n",
              " 'on',\n",
              " 'for',\n",
              " '20',\n",
              " 'minutes',\n",
              " 'or',\n",
              " 'so',\n",
              " 'excluding',\n",
              " 'the',\n",
              " 'smooth',\n",
              " 'criminal',\n",
              " 'sequence',\n",
              " 'and',\n",
              " 'joe',\n",
              " 'pesci',\n",
              " 'is',\n",
              " 'convincing',\n",
              " 'as',\n",
              " 'a',\n",
              " 'psychopathic',\n",
              " 'all',\n",
              " 'powerful',\n",
              " 'drug',\n",
              " 'lord',\n",
              " 'why',\n",
              " 'he',\n",
              " 'wants',\n",
              " 'mj',\n",
              " 'dead',\n",
              " 'so',\n",
              " 'bad',\n",
              " 'is',\n",
              " 'beyond',\n",
              " 'me',\n",
              " 'because',\n",
              " 'mj',\n",
              " 'overheard',\n",
              " 'his',\n",
              " 'plans',\n",
              " 'nah',\n",
              " 'joe',\n",
              " 'pescis',\n",
              " 'character',\n",
              " 'ranted',\n",
              " 'that',\n",
              " 'he',\n",
              " 'wanted',\n",
              " 'people',\n",
              " 'to',\n",
              " 'know',\n",
              " 'it',\n",
              " 'is',\n",
              " 'he',\n",
              " 'who',\n",
              " 'is',\n",
              " 'supplying',\n",
              " 'drugs',\n",
              " 'etc',\n",
              " 'so',\n",
              " 'i',\n",
              " 'dunno',\n",
              " 'maybe',\n",
              " 'he',\n",
              " 'just',\n",
              " 'hates',\n",
              " 'mjs',\n",
              " 'musicbr',\n",
              " 'br',\n",
              " 'lots',\n",
              " 'of',\n",
              " 'cool',\n",
              " 'things',\n",
              " 'in',\n",
              " 'this',\n",
              " 'like',\n",
              " 'mj',\n",
              " 'turning',\n",
              " 'into',\n",
              " 'a',\n",
              " 'car',\n",
              " 'and',\n",
              " 'a',\n",
              " 'robot',\n",
              " 'and',\n",
              " 'the',\n",
              " 'whole',\n",
              " 'speed',\n",
              " 'demon',\n",
              " 'sequence',\n",
              " 'also',\n",
              " 'the',\n",
              " 'director',\n",
              " 'must',\n",
              " 'have',\n",
              " 'had',\n",
              " 'the',\n",
              " 'patience',\n",
              " 'of',\n",
              " 'a',\n",
              " 'saint',\n",
              " 'when',\n",
              " 'it',\n",
              " 'came',\n",
              " 'to',\n",
              " 'filming',\n",
              " 'the',\n",
              " 'kiddy',\n",
              " 'bad',\n",
              " 'sequence',\n",
              " 'as',\n",
              " 'usually',\n",
              " 'directors',\n",
              " 'hate',\n",
              " 'working',\n",
              " 'with',\n",
              " 'one',\n",
              " 'kid',\n",
              " 'let',\n",
              " 'alone',\n",
              " 'a',\n",
              " 'whole',\n",
              " 'bunch',\n",
              " 'of',\n",
              " 'them',\n",
              " 'performing',\n",
              " 'a',\n",
              " 'complex',\n",
              " 'dance',\n",
              " 'scenebr',\n",
              " 'br',\n",
              " 'bottom',\n",
              " 'line',\n",
              " 'this',\n",
              " 'movie',\n",
              " 'is',\n",
              " 'for',\n",
              " 'people',\n",
              " 'who',\n",
              " 'like',\n",
              " 'mj',\n",
              " 'on',\n",
              " 'one',\n",
              " 'level',\n",
              " 'or',\n",
              " 'another',\n",
              " 'which',\n",
              " 'i',\n",
              " 'think',\n",
              " 'is',\n",
              " 'most',\n",
              " 'people',\n",
              " 'if',\n",
              " 'not',\n",
              " 'then',\n",
              " 'stay',\n",
              " 'away',\n",
              " 'it',\n",
              " 'does',\n",
              " 'try',\n",
              " 'and',\n",
              " 'give',\n",
              " 'off',\n",
              " 'a',\n",
              " 'wholesome',\n",
              " 'message',\n",
              " 'and',\n",
              " 'ironically',\n",
              " 'mjs',\n",
              " 'bestest',\n",
              " 'buddy',\n",
              " 'in',\n",
              " 'this',\n",
              " 'movie',\n",
              " 'is',\n",
              " 'a',\n",
              " 'girl',\n",
              " 'michael',\n",
              " 'jackson',\n",
              " 'is',\n",
              " 'truly',\n",
              " 'one',\n",
              " 'of',\n",
              " 'the',\n",
              " 'most',\n",
              " 'talented',\n",
              " 'people',\n",
              " 'ever',\n",
              " 'to',\n",
              " 'grace',\n",
              " 'this',\n",
              " 'planet',\n",
              " 'but',\n",
              " 'is',\n",
              " 'he',\n",
              " 'guilty',\n",
              " 'well',\n",
              " 'with',\n",
              " 'all',\n",
              " 'the',\n",
              " 'attention',\n",
              " 'ive',\n",
              " 'gave',\n",
              " 'this',\n",
              " 'subjecthmmm',\n",
              " 'well',\n",
              " 'i',\n",
              " 'dont',\n",
              " 'know',\n",
              " 'because',\n",
              " 'people',\n",
              " 'can',\n",
              " 'be',\n",
              " 'different',\n",
              " 'behind',\n",
              " 'closed',\n",
              " 'doors',\n",
              " 'i',\n",
              " 'know',\n",
              " 'this',\n",
              " 'for',\n",
              " 'a',\n",
              " 'fact',\n",
              " 'he',\n",
              " 'is',\n",
              " 'either',\n",
              " 'an',\n",
              " 'extremely',\n",
              " 'nice',\n",
              " 'but',\n",
              " 'stupid',\n",
              " 'guy',\n",
              " 'or',\n",
              " 'one',\n",
              " 'of',\n",
              " 'the',\n",
              " 'most',\n",
              " 'sickest',\n",
              " 'liars',\n",
              " 'i',\n",
              " 'hope',\n",
              " 'he',\n",
              " 'is',\n",
              " 'not',\n",
              " 'the',\n",
              " 'latter']"
            ]
          },
          "metadata": {},
          "execution_count": 21
        }
      ]
    },
    {
      "cell_type": "code",
      "source": [
        "from nltk.corpus import stopwords\n",
        "\n",
        "def remove_stopwords(text):\n",
        "    # Tokenize the text into individual words\n",
        "    tokens = text\n",
        "\n",
        "    # Get the list of stopwords\n",
        "    stop_words = set(stopwords.words('english'))\n",
        "\n",
        "    # Remove stopwords from the tokenized text\n",
        "    filtered_tokens = [token for token in tokens if token.lower() not in stop_words]\n",
        "\n",
        "    return filtered_tokens\n"
      ],
      "metadata": {
        "id": "c7xXWc5we2g0"
      },
      "execution_count": 22,
      "outputs": []
    },
    {
      "cell_type": "code",
      "source": [
        "nltk.download('stopwords')"
      ],
      "metadata": {
        "colab": {
          "base_uri": "https://localhost:8080/"
        },
        "id": "kyV8c4a1hOmY",
        "outputId": "9d466624-0f31-4e63-9d3a-ec88b9ee4347"
      },
      "execution_count": 23,
      "outputs": [
        {
          "output_type": "stream",
          "name": "stderr",
          "text": [
            "[nltk_data] Downloading package stopwords to /root/nltk_data...\n",
            "[nltk_data]   Package stopwords is already up-to-date!\n"
          ]
        },
        {
          "output_type": "execute_result",
          "data": {
            "text/plain": [
              "True"
            ]
          },
          "metadata": {},
          "execution_count": 23
        }
      ]
    },
    {
      "cell_type": "code",
      "source": [
        "# call function here:\n",
        "\n",
        "def join (text):\n",
        "    filtered_tokens=[]\n",
        "    if type(text)==str:\n",
        "      my_list=(remove_stopwords(tokenize_text(clean_text(text))))\n",
        "      joined_string = \" \".join(my_list)\n",
        "      filtered_tokens.append(joined_string)\n",
        "    else :\n",
        "      for num in range(0,len(text)):\n",
        "          my_list=(remove_stopwords(tokenize_text(clean_text(text[num]))))\n",
        "          joined_string = \" \".join(my_list)\n",
        "          filtered_tokens.append(joined_string)\n",
        "    return filtered_tokens"
      ],
      "metadata": {
        "id": "GaZbbXlugZzV"
      },
      "execution_count": 24,
      "outputs": []
    },
    {
      "cell_type": "code",
      "source": [
        "from sklearn.feature_extraction.text import TfidfVectorizer\n",
        "# Vectorization\n",
        "def vectorize_data (words):\n",
        "# Feature extraction using TF-IDF\n",
        "    vectorizer = TfidfVectorizer()\n",
        "    features = vectorizer.fit_transform(words)\n",
        "\n",
        "    return features.toarray()           # -----data type of features is :scipy.sparse.csr_matrix  --> this type model accept"
      ],
      "metadata": {
        "id": "33dTWGEogy8F"
      },
      "execution_count": 25,
      "outputs": []
    },
    {
      "cell_type": "code",
      "source": [
        "# print(join(X))   ----CHECK JOIN WORK"
      ],
      "metadata": {
        "id": "Zp-Mh9UGCGCg"
      },
      "execution_count": 26,
      "outputs": []
    },
    {
      "cell_type": "code",
      "source": [
        "join(\"film was goood  , it very good ..\")"
      ],
      "metadata": {
        "colab": {
          "base_uri": "https://localhost:8080/"
        },
        "id": "jG7iWk1DauT9",
        "outputId": "fccd4240-100a-4fd2-aba9-53e3d7de6dd3"
      },
      "execution_count": 27,
      "outputs": [
        {
          "output_type": "execute_result",
          "data": {
            "text/plain": [
              "['film goood good']"
            ]
          },
          "metadata": {},
          "execution_count": 27
        }
      ]
    },
    {
      "cell_type": "code",
      "source": [
        "# from scipy.sparse import csr_matrix\n",
        "# vectorize_data_Train=csr_matrix(vectorize_data_train)\n",
        "\n",
        "#--->above lib is used to convert to  type : scipy.sparse.csr_matrix"
      ],
      "metadata": {
        "id": "0Pn9pfgD5Pgc"
      },
      "execution_count": 28,
      "outputs": []
    },
    {
      "cell_type": "code",
      "source": [
        "# feature vaiable\n",
        "X=vectorize_data(join(X))  # ---->not need looping"
      ],
      "metadata": {
        "id": "033cHgffa8Zx"
      },
      "execution_count": 29,
      "outputs": []
    },
    {
      "cell_type": "code",
      "source": [
        "max_length=0\n",
        "for matrix in X:\n",
        "    length = matrix.getnnz()\n",
        "    max_length += length\n",
        "max_length"
      ],
      "metadata": {
        "colab": {
          "base_uri": "https://localhost:8080/",
          "height": 235
        },
        "id": "9eEKQKh1HVDW",
        "outputId": "b7a4a4fd-682c-4327-832b-ee754abdb8d7"
      },
      "execution_count": 36,
      "outputs": [
        {
          "output_type": "error",
          "ename": "AttributeError",
          "evalue": "ignored",
          "traceback": [
            "\u001b[0;31m---------------------------------------------------------------------------\u001b[0m",
            "\u001b[0;31mAttributeError\u001b[0m                            Traceback (most recent call last)",
            "\u001b[0;32m<ipython-input-36-b19adf61ab6d>\u001b[0m in \u001b[0;36m<cell line: 2>\u001b[0;34m()\u001b[0m\n\u001b[1;32m      1\u001b[0m \u001b[0mmax_length\u001b[0m\u001b[0;34m=\u001b[0m\u001b[0;36m0\u001b[0m\u001b[0;34m\u001b[0m\u001b[0;34m\u001b[0m\u001b[0m\n\u001b[1;32m      2\u001b[0m \u001b[0;32mfor\u001b[0m \u001b[0mmatrix\u001b[0m \u001b[0;32min\u001b[0m \u001b[0mX\u001b[0m\u001b[0;34m:\u001b[0m\u001b[0;34m\u001b[0m\u001b[0;34m\u001b[0m\u001b[0m\n\u001b[0;32m----> 3\u001b[0;31m     \u001b[0mlength\u001b[0m \u001b[0;34m=\u001b[0m \u001b[0mmatrix\u001b[0m\u001b[0;34m.\u001b[0m\u001b[0mgetnnz\u001b[0m\u001b[0;34m(\u001b[0m\u001b[0;34m)\u001b[0m\u001b[0;34m\u001b[0m\u001b[0;34m\u001b[0m\u001b[0m\n\u001b[0m\u001b[1;32m      4\u001b[0m     \u001b[0mmax_length\u001b[0m \u001b[0;34m+=\u001b[0m \u001b[0mlength\u001b[0m\u001b[0;34m\u001b[0m\u001b[0;34m\u001b[0m\u001b[0m\n\u001b[1;32m      5\u001b[0m \u001b[0mmax_length\u001b[0m\u001b[0;34m\u001b[0m\u001b[0;34m\u001b[0m\u001b[0m\n",
            "\u001b[0;31mAttributeError\u001b[0m: 'numpy.ndarray' object has no attribute 'getnnz'"
          ]
        }
      ]
    },
    {
      "cell_type": "code",
      "source": [
        "X[0]"
      ],
      "metadata": {
        "colab": {
          "base_uri": "https://localhost:8080/"
        },
        "id": "iQmyAp08zS_u",
        "outputId": "758acb9b-0190-489b-ac8c-d59a99db22b3"
      },
      "execution_count": 37,
      "outputs": [
        {
          "output_type": "execute_result",
          "data": {
            "text/plain": [
              "array([0., 0., 0., ..., 0., 0., 0.])"
            ]
          },
          "metadata": {},
          "execution_count": 37
        }
      ]
    },
    {
      "cell_type": "code",
      "source": [
        "testData=vectorize_data(join(X_TestData))"
      ],
      "metadata": {
        "id": "hhmVqerZGRR0"
      },
      "execution_count": null,
      "outputs": []
    },
    {
      "cell_type": "code",
      "source": [
        "testData[0]"
      ],
      "metadata": {
        "id": "WkqbRnE-wyUB"
      },
      "execution_count": null,
      "outputs": []
    },
    {
      "cell_type": "markdown",
      "source": [
        "* فى طريقة انى اقسم البيانات الاول لتدريب واختبار و بعد كده اعمل للبيانات تجهز و كلا على حد\n",
        "\n",
        "* الطريقة التانية انى الجمل تجهيز للبيانات كلها و بعدين اقسم لتدريب و اختبار و ده افضل فى تقليل الوقت والمجهود و المساحة كمان\n",
        "\n",
        "--------------------------\n",
        "-------------------------"
      ],
      "metadata": {
        "id": "KUMj8m4teFMP"
      }
    },
    {
      "cell_type": "code",
      "source": [
        "X[2]"
      ],
      "metadata": {
        "id": "hExHbj_ra23V"
      },
      "execution_count": null,
      "outputs": []
    },
    {
      "cell_type": "code",
      "source": [
        "# X   #--i can't know what is 120867 features to solve test error  so  i think i should learn how is store sparse matrix"
      ],
      "metadata": {
        "id": "l8A1V78xU6MQ"
      },
      "execution_count": null,
      "outputs": []
    },
    {
      "cell_type": "code",
      "source": [
        "#Split training and testing data\n",
        "X_train, X_test, y_train, y_test = train_test_split(X, y, test_size=.33, random_state=53)"
      ],
      "metadata": {
        "id": "p8g4mVEnohf3"
      },
      "execution_count": null,
      "outputs": []
    },
    {
      "cell_type": "code",
      "source": [
        "import pickle"
      ],
      "metadata": {
        "id": "6mo7cUKYL6Qn"
      },
      "execution_count": null,
      "outputs": []
    },
    {
      "cell_type": "code",
      "source": [
        "from sklearn.naive_bayes import MultinomialNB\n",
        "\n",
        "# Train the model\n",
        "model0 = MultinomialNB()\n",
        "model0.fit(X_train, y_train)\n",
        "# naive bayes is faster than svm but pit less than acc"
      ],
      "metadata": {
        "id": "Dx3bKBSzjCJ-"
      },
      "execution_count": null,
      "outputs": []
    },
    {
      "cell_type": "code",
      "source": [
        "# Make predictions on the test set\n",
        "y_pred = model0.predict(X_test)"
      ],
      "metadata": {
        "id": "GH4OlJF65oRn"
      },
      "execution_count": null,
      "outputs": []
    },
    {
      "cell_type": "code",
      "source": [
        "from sklearn.metrics import accuracy_score\n",
        "# Calculate accuracy\n",
        "accuracy = accuracy_score(y_test, y_pred)\n",
        "\n",
        "print(\"Accuracy:\", accuracy)"
      ],
      "metadata": {
        "id": "WdguqTlubQMH"
      },
      "execution_count": null,
      "outputs": []
    },
    {
      "cell_type": "code",
      "source": [
        "test=vectorize_data(join(\"film was goood  , it very good ..\"))\n",
        "test"
      ],
      "metadata": {
        "id": "NCuMfp3DD-uQ"
      },
      "execution_count": null,
      "outputs": []
    },
    {
      "cell_type": "code",
      "source": [
        "# test_pred=model0.predict(testData.reshape(-1, 1))\n",
        "# #  ----ValueError: X has 118685 features, but MultinomialNB is expecting 120867 features as input.\n",
        "# # i should learn how is classify numbers what is rule ? to solve this error"
      ],
      "metadata": {
        "id": "sd8Uc_beH8-s"
      },
      "execution_count": null,
      "outputs": []
    },
    {
      "cell_type": "code",
      "source": [
        "# y_pre=model0.predict(test)  ----ValueError: X has 3 features, but MultinomialNB is expecting 120867 features as input.\n"
      ],
      "metadata": {
        "id": "m-R8kmKYEn9L"
      },
      "execution_count": null,
      "outputs": []
    },
    {
      "cell_type": "code",
      "source": [
        "pickle.dump(model0, open('Naive.pkl', 'wb'))"
      ],
      "metadata": {
        "id": "9WceDgqGMIv5"
      },
      "execution_count": null,
      "outputs": []
    },
    {
      "cell_type": "code",
      "source": [
        "# from sklearn.svm import SVC\n",
        "# # Train the model\n",
        "# model = SVC()\n",
        "# model.fit(X_train, y_train)\n"
      ],
      "metadata": {
        "id": "7fzGrb5tfjC8"
      },
      "execution_count": null,
      "outputs": []
    },
    {
      "cell_type": "code",
      "source": [
        "# y_pre=model.predict(X_test)"
      ],
      "metadata": {
        "id": "jIVVUks2fvD4"
      },
      "execution_count": null,
      "outputs": []
    },
    {
      "cell_type": "code",
      "source": [
        "# from sklearn.metrics import accuracy_score\n",
        "# # Calculate accuracy\n",
        "# accuracy = accuracy_score(y_test, y_pre)\n",
        "\n",
        "# print(\"Accuracy:\", accuracy)"
      ],
      "metadata": {
        "id": "Y4e1xd0bf97a"
      },
      "execution_count": null,
      "outputs": []
    },
    {
      "cell_type": "code",
      "source": [
        "# pickle.dump(model, open('SVC.pkl', 'wb'))"
      ],
      "metadata": {
        "id": "5rBIpRxPLyqA"
      },
      "execution_count": null,
      "outputs": []
    },
    {
      "cell_type": "code",
      "source": [
        "def extact_features (text):\n",
        "    cleaded =re.sub(r'[^\\w\\s]','',text)\n",
        "    cleaned_text = cleaded.lower()\n",
        "    tokens = word_tokenize(cleaned_text)\n",
        "    # Get the list of stopwords\n",
        "    stop_words = set(stopwords.words('english'))\n",
        "\n",
        "    # Remove stopwords from the tokenized text\n",
        "    filtered_tokens = [token for token in tokens if token.lower() not in stop_words]\n",
        "    filtered_tok = []\n",
        "    # my_list=(filtered_tokens)\n",
        "    joined_string = \" \".join(filtered_tokens)\n",
        "    filtered_tok.append(joined_string)\n",
        "    vectorized = TfidfVectorizer()\n",
        "    features = vectorized.fit_transform(filtered_tok)\n",
        "    return features"
      ],
      "metadata": {
        "id": "snUv7WO8d4co"
      },
      "execution_count": null,
      "outputs": []
    },
    {
      "cell_type": "code",
      "source": [
        "extact_features('ddlkjl lgj')\n"
      ],
      "metadata": {
        "id": "mOjAJ6yFektl"
      },
      "execution_count": null,
      "outputs": []
    },
    {
      "cell_type": "code",
      "source": [
        "naive=pickle.load(open('Naive.pkl', 'rb'))\n",
        "naive_pred=naive.predict_proba(test)"
      ],
      "metadata": {
        "id": "GlnzASdTd7cx"
      },
      "execution_count": null,
      "outputs": []
    },
    {
      "cell_type": "code",
      "source": [
        "naive_pred"
      ],
      "metadata": {
        "id": "4tI9KPLftha0"
      },
      "execution_count": null,
      "outputs": []
    },
    {
      "cell_type": "code",
      "source": [
        "# X_test"
      ],
      "metadata": {
        "id": "N6n3Rt0pbuZd"
      },
      "execution_count": null,
      "outputs": []
    },
    {
      "cell_type": "code",
      "source": [],
      "metadata": {
        "id": "Io7fnw5lftxo"
      },
      "execution_count": null,
      "outputs": []
    },
    {
      "cell_type": "code",
      "source": [],
      "metadata": {
        "id": "2km0CFq3bkda"
      },
      "execution_count": null,
      "outputs": []
    }
  ]
}